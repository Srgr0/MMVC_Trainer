{
  "cells": [
    {
      "cell_type": "markdown",
      "metadata": {
        "id": "U7-O9IRzogIx"
      },
      "source": [
        "# モデルの精度を確認するためのインターフェース\n",
        "\n",
        "ver.2022/10/30\n",
        "\n",
        "学習したモデルでTTSと非リアルタイムのVCを行い、モデルの精度を検証します。"
      ]
    },
    {
      "cell_type": "markdown",
      "source": [
        "​"
      ],
      "metadata": {
        "id": "B5lhnVQbOIoe"
      }
    },
    {
      "cell_type": "code",
      "source": [
        "#@title ## 1 Notebookの準備\n",
        "#@markdown このNotebookの実行に必要なパッケージを導入します。\n",
        "\n",
        "#@markdown 時間がかかりますので、気長にお待ちください。\n",
        "\n",
        "#Pythonパッケージのインストール\n",
        "print(\"log: パッケージのインストールを開始します。\")\n",
        "##ipywidgets UIの実装に使用\n",
        "!pip install ipywidgets\n",
        "import ipywidgets as widgets\n",
        "#IPython.display 出力の消去に使用\n",
        "from IPython.display import clear_output\n",
        "#time waitコマンドの実装に使用\n",
        "import time\n",
        "print(\"log: パッケージのインストールが完了しました。\\n\")"
      ],
      "metadata": {
        "cellView": "form",
        "id": "ZVPYnCiM_m7r"
      },
      "execution_count": null,
      "outputs": []
    },
    {
      "cell_type": "markdown",
      "source": [
        "​"
      ],
      "metadata": {
        "id": "3J6r05V5eKND"
      }
    },
    {
      "cell_type": "code",
      "source": [
        "#@title ## 2 リポジトリの準備\n",
        "#@markdown リポジトリの準備を行います。\n",
        "\n",
        "#@markdown まず、セルを実行してください。UIが表示されます。\n",
        "\n",
        "#@markdown Colabを使用している場合\n",
        "#@markdown * PlatformでColabを選択してください。\n",
        "#@markdown * PathでMMVC_Trainerの保存先となる、Google Driveのマイドライブ以下のパスを指定してください。よく分からない場合は、変更しなくとも構いません。変更しない場合は、マイドライブ直下に保存されます。\n",
        "#@markdown * 「このノートブックに Google ドライブのファイルへのアクセスを許可しますか？」といったポップアップが表示されますので、「Google ドライブに接続」を押下し、google アカウントを選択して、「許可」を選択してください。\n",
        "\n",
        "#@markdown ローカルの場合\n",
        "#@markdown * PlatformでLocalを選択してください。\n",
        "#@markdown * PathでMMVC_Trainerの保存先となる、ローカルのパスを指定してください。\n",
        "\n",
        "#@markdown 設定が完了したら、次へを押してください。\n",
        "\n",
        "\n",
        "#---関数---\n",
        "def mount_googledrive():\n",
        "  print(\"log: Google Driveのマウントを開始します。\")\n",
        "  print(\"「このノートブックに Google ドライブのファイルへのアクセスを許可しますか？」といったポップアップが表示されますので、「Google ドライブに接続」を押下し、google アカウントを選択して、「許可」を選択してください。\")\n",
        "  time.sleep(2)\n",
        "  print(\"info: 少し時間がかかります。このままお待ちください。\")\n",
        "  from google.colab import drive\n",
        "  drive.mount('/content/drive')\n",
        "  print(\"log: Google Driveのマウントが完了しました。\\n\")\n",
        "\n",
        "#---関数終わり---\n",
        "\n",
        "def first_view():\n",
        "  #widgetsの構成\n",
        "  global platform_input #グローバル指定\n",
        "  #global directory_input #グローバル指定\n",
        "  #global branch_input #グローバル指定\n",
        "  global path_input #グローバル指定\n",
        "  platform_input = widgets.Dropdown(options=[\"Colab\", \"Local\"], value=\"Colab\", description='Platform:', disabled=False)\n",
        "  path_input = widgets.Text(value='/content/drive/MyDrive/MMVC_Trainer_main', placeholder='/content/drive/MyDrive/MMVC_Trainer_main', description='Path:', disabled=False)\n",
        "  #directory_input = widgets.Text(value='/content/drive/MyDrive/MMVC_Trainer', placeholder='/content/drive/MyDrive/MMVC_Trainer', description='Directory:', disabled=False)\n",
        "  #branch_input = widgets.Text(value='main', placeholder='main', description='Branch:', disabled=False)\n",
        "  next_1 = widgets.Button(description='次へ', disabled=False)\n",
        "  #widgetsの表示\n",
        "  display(platform_input, path_input, next_1)\n",
        "  #ボタンがクリックされたらmainを動かす\n",
        "  next_1.on_click(main)\n",
        "\n",
        "def main(b: widgets.Button) -> None:\n",
        "  clear_output(True)\n",
        "  #入力を変数に入れておく\n",
        "  #global directory #グローバル指定\n",
        "  #directory = directory_input.value\n",
        "  global platform #グローバル指定\n",
        "  platform = platform_input.value\n",
        "  #global branch #グローバル指定\n",
        "  #branch = branch_input.value\n",
        "  global path #グローバル指定\n",
        "  #path = directory + \"/MMVC_Trainer_\" + branch\n",
        "  path = path_input.value\n",
        "  #Colabとそれ以外で処理を分ける\n",
        "  if platform == \"Colab\":\n",
        "    mount_googledrive() #Google Driveのマウント\n",
        "    %cd $path\n",
        "  elif platform == \"Local\":\n",
        "    %cd $path\n",
        "\n",
        "#実行\n",
        "first_view()"
      ],
      "metadata": {
        "cellView": "form",
        "id": "AY9VJFRv6rnY"
      },
      "execution_count": null,
      "outputs": []
    },
    {
      "cell_type": "markdown",
      "source": [
        "​"
      ],
      "metadata": {
        "id": "o0uxP82wDGg3"
      }
    },
    {
      "cell_type": "code",
      "execution_count": null,
      "metadata": {
        "id": "oOWo15aRewCk",
        "cellView": "form"
      },
      "outputs": [],
      "source": [
        "#@title ## 3 ライブラリのインストール\n",
        "#@markdown 実行に必要なライブラリを導入します。\n",
        "\n",
        "#@markdown 時間がかかりますので、気長にお待ちください。\n",
        "\n",
        "!apt-get install espeak\n",
        "!pip install -r requirements.txt\n",
        "\n",
        "%matplotlib inline\n",
        "import matplotlib.pyplot as plt\n",
        "import IPython.display as ipd\n",
        "\n",
        "import os\n",
        "import json\n",
        "import math\n",
        "import torch\n",
        "from torch import nn\n",
        "from torch.nn import functional as F\n",
        "from torch.utils.data import DataLoader\n",
        "\n",
        "import commons\n",
        "import utils\n",
        "from data_utils import TextAudioLoader, TextAudioCollate, TextAudioSpeakerLoader, TextAudioSpeakerCollate\n",
        "from models import SynthesizerTrn\n",
        "from text.symbols import symbols\n",
        "from text import text_to_sequence\n",
        "\n",
        "from scipy.io.wavfile import write\n",
        "\n",
        "\n",
        "def get_text(text, hps):\n",
        "    text_norm = text_to_sequence(text, hps.data.text_cleaners)\n",
        "    if hps.data.add_blank:\n",
        "        text_norm = commons.intersperse(text_norm, 0)\n",
        "    text_norm = torch.LongTensor(text_norm)\n",
        "    return text_norm"
      ]
    },
    {
      "cell_type": "markdown",
      "source": [
        "​"
      ],
      "metadata": {
        "id": "zjrZ1vGvFFqt"
      }
    },
    {
      "cell_type": "code",
      "execution_count": null,
      "metadata": {
        "id": "Rm-3oWmarsZt"
      },
      "outputs": [],
      "source": [
        "#@title ## 4 学習したモデルの読み込み\n",
        "#@markdown 学習したモデルを読み込みます。\n",
        "\n",
        "#@markdown まず、セルを実行してください。\n",
        "\n",
        "#@markdown UIが表示されますので、以下の説明に従って設定を行ってください。\n",
        "\n",
        "#@markdown ​\n",
        "\n",
        "#@markdown CONFIG_PATH：configファイルのパス\n",
        "#@markdown 作成したconfigファイル(json)を指定してください。  \n",
        "#@markdown `configs/****.json` のような値になります。\n",
        "\n",
        "#@markdown NET_PATH：学習したモデルのパス\n",
        "#@markdown 作成されたモデル(pth)を指定してください。\n",
        "#@markdown `logs/xxxxxxxx_xxxxx/G_xxxxx.pth` のような値になります。\n",
        "\n",
        "#@markdown ​\n",
        "\n",
        "#@markdown 設定が完了したら、次へを押してください。\n",
        "\n",
        "def first_view():\n",
        "  #widgetsの構成\n",
        "  global CONFIG_PATH_input #グローバル指定\n",
        "  global NET_PATH_input #グローバル指定\n",
        "  CONFIG_PATH_input = widgets.Text(value='configs/train_config.json', placeholder='configs/train_config.json', description='config_path:', disabled=False)\n",
        "  NET_PATH_input = widgets.Text(value='logs/20220306_24000/G_xxxxx.pth', placeholder='logs/20220306_24000/G_xxxxx.pth', description='net_path:', disabled=False)\n",
        "  next_1 = widgets.Button(description='次へ', disabled=False)\n",
        "  #widgetsの表示\n",
        "  display(CONFIG_PATH_input, NET_PATH_input, next_1)\n",
        "  #ボタンがクリックされたらmainを動かす\n",
        "  next_1.on_click(main)\n",
        "\n",
        "def main(b: widgets.Button) -> None:\n",
        "  clear_output(True)\n",
        "  #入力を変数に入れておく\n",
        "  global CONFIG_PATH #グローバル指定\n",
        "  CONFIG_PATH = CONFIG_PATH_input.value\n",
        "  global NET_PATH #グローバル指定\n",
        "  NET_PATH = NET_PATH_input.value\n",
        "  #モデルの読み込み\n",
        "  global hps\n",
        "  hps = utils.get_hparams_from_file(CONFIG_PATH)\n",
        "  global net_g\n",
        "  net_g = SynthesizerTrn(\n",
        "    len(symbols),\n",
        "    hps.data.filter_length // 2 + 1,\n",
        "    hps.train.segment_size // hps.data.hop_length,\n",
        "    n_speakers=hps.data.n_speakers,\n",
        "    **hps.model)\n",
        "  #global\n",
        "  _ = net_g.eval()\n",
        "  #global\n",
        "  _ = utils.load_checkpoint(NET_PATH, net_g, None)\n",
        "\n",
        "  \n",
        "\n",
        "#実行\n",
        "first_view()"
      ]
    },
    {
      "cell_type": "markdown",
      "source": [
        "​"
      ],
      "metadata": {
        "id": "Xcbrw5CPGucf"
      }
    },
    {
      "cell_type": "code",
      "execution_count": null,
      "metadata": {
        "id": "uEqm8yA6v9xz"
      },
      "outputs": [],
      "source": [
        "#@title ## 5 学習したモデルで非リアルタイムVCを行う\n",
        "#@markdown 非リアルタイムのVCを行います。\n",
        "\n",
        "#@markdown まず、セルを実行してください。\n",
        "\n",
        "#@markdown UIが表示されますので、以下の説明に従って設定を行ってください。\n",
        "\n",
        "#@markdown ​\n",
        "\n",
        "#@markdown SOURCE_SPEAKER_ID\n",
        "#@markdown ソース話者のID\n",
        "SOURCE_SPEAKER_ID = 107 #@param {type:\"integer\"}\n",
        "\n",
        "#@markdown SOURCE_WAVFILE\n",
        "#@markdown ソース話者の音声ファイルのパス\n",
        "#@markdown 学習に使用した音声ファイルか、新規に録音した音声ファイルを指定してください。\n",
        "SOURCE_WAVFILE = \"dataset/textful/00_myvoice/wav/VOICEACTRESS100_001.wav\" #@param {type:\"string\"}\n",
        "\n",
        "#@markdown TARGET_ID\n",
        "#@markdown ターゲット話者のID\n",
        "TARGET_ID = 100 #@param {type:\"integer\"}\n",
        "\n",
        "#@markdown ​\n",
        "\n",
        "#@markdown 設定が完了したら、次へを押してください。\n",
        "\n",
        "#@markdown VCの性能が悪い場合、学習不足か他に問題があります。\n",
        "\n",
        "with torch.no_grad():\n",
        "    dataset = TextAudioSpeakerLoader(hps.data.validation_files_notext, hps.data)\n",
        "    data = dataset.get_audio_text_speaker_pair([SOURCE_WAVFILE, SOURCE_SPEAKER_ID, \"a\"])\n",
        "    data = TextAudioSpeakerCollate()([data])\n",
        "    x, x_lengths, spec, spec_lengths, y, y_lengths, sid_src = [x for x in data]\n",
        "    sid_tgt1 = torch.LongTensor([TARGET_ID])\n",
        "    audio1 = net_g.voice_conversion(spec, spec_lengths, sid_src=sid_src, sid_tgt=sid_tgt1)[0][0,0].data.cpu().float().numpy()\n",
        "print(\"Original SID: %d\" % sid_src.item())\n",
        "ipd.display(ipd.Audio(y[0].cpu().numpy(), rate=hps.data.sampling_rate))\n",
        "print(\"Converted SID: %d\" % sid_tgt1.item())\n",
        "ipd.display(ipd.Audio(audio1, rate=hps.data.sampling_rate))"
      ]
    }
  ],
  "metadata": {
    "colab": {
      "collapsed_sections": [],
      "name": "03_MMVC_Interface.ipynb",
      "provenance": []
    },
    "kernelspec": {
      "display_name": "Python 3.9.6 64-bit",
      "language": "python",
      "name": "python3"
    },
    "language_info": {
      "name": "python",
      "version": "3.9.6"
    },
    "vscode": {
      "interpreter": {
        "hash": "d3394867249fd41ee68869925f4586b97ae8a94f3c93a4c25403e9e75f272611"
      }
    }
  },
  "nbformat": 4,
  "nbformat_minor": 0
}