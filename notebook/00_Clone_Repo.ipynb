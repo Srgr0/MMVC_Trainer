{
  "cells": [
    {
      "cell_type": "markdown",
      "metadata": {
        "id": "zO4ySkfLgBIp"
      },
      "source": [
        "# MMVCのリポジトリをGoogle Driveに保存する\n",
        "\n",
        "ver.2022/10/3\n",
        "\n",
        "MMVC_Trainerのリポジトリと事前学習済みモデルを、Google Driveに保存します。"
      ]
    },
    {
      "cell_type": "markdown",
      "metadata": {
        "id": "T5hplryJhQGB"
      },
      "source": [
        "​"
      ]
    },
    {
      "cell_type": "code",
      "source": [
        "#@title ## 1 Notebookの準備\n",
        "#@markdown このNotebookの実行に必要なパッケージをインストールします。\n",
        "\n",
        "#@markdown 「警告: このノートブックは Google が作成したものではありません。」といったポップアップが表示された場合、内容を確認して「このまま実行」を選択してください。このノートブックでは、外部へのデータ送信は一切行われません。\n",
        "\n",
        "!pip install ipywidgets\n",
        "import ipywidgets as widgets\n",
        "from IPython.display import clear_output\n",
        "import time"
      ],
      "metadata": {
        "cellView": "form",
        "id": "_XCTZsIKu-t2"
      },
      "execution_count": null,
      "outputs": []
    },
    {
      "cell_type": "markdown",
      "metadata": {
        "id": "GAGK1P8eiNm5"
      },
      "source": [
        "​"
      ]
    },
    {
      "cell_type": "code",
      "execution_count": null,
      "metadata": {
        "cellView": "form",
        "id": "w122ZsLxQU3a"
      },
      "outputs": [],
      "source": [
        "#@title ## 2 セットアップ\n",
        "#@markdown MMVC_Trainerのセットアップを行います。\n",
        "\n",
        "#@markdown まず、プラットフォーム(Colabかそれ以外)を選択してください。その後、\n",
        "\n",
        "#@markdown * Colabを使用している場合、マイドライブ以下のパスを指定してください。\n",
        "#@markdown  * よく分からない場合は、変更しなくとも構いません。変更しない場合は、マイドライブ直下に保存されます。\n",
        "#@markdown  * 「このノートブックに Google ドライブのファイルへのアクセスを許可しますか？」といったポップアップが表示されますので、「Google ドライブに接続」を押下し、google アカウントを選択して、「許可」を選択してください。\n",
        "\n",
        "#@markdown * Colab以外の場合、ローカルのパスを指定してください。\n",
        "\n",
        "#---メイン---\n",
        "def first_view():\n",
        "  #widgetsの構成\n",
        "  global platform_input #グローバル指定\n",
        "  global directory_input #グローバル指定\n",
        "  platform_input = widgets.Dropdown(options=[\"Colab\", \"Other\"], value=\"Colab\", description='Platform:', disabled=False)\n",
        "  directory_input = widgets.Text(value='/content/drive/MyDrive', placeholder='/content/drive/MyDrive', description='Directory:', disabled=False)\n",
        "  next_1 = widgets.Button(description='次へ', disabled=False)\n",
        "  #widgetsの表示\n",
        "  display(platform_input, directory_input, next_1)\n",
        "  #ボタンがクリックされたらmainを動かす\n",
        "  next_1.on_click(main)\n",
        "\n",
        "\n",
        "def main(b: widgets.Button) -> None:\n",
        "  clear_output(True)\n",
        "  #入力を変数に入れておく\n",
        "  global directory #グローバル指定\n",
        "  directory = directory_input.value\n",
        "  global platform #グローバル指定\n",
        "  platform = platform_input.value\n",
        "  #Colabとそれ以外で処理を分ける\n",
        "  if platform == \"Colab\":\n",
        "    #Google Driveのマウント\n",
        "    print(\"「このノートブックに Google ドライブのファイルへのアクセスを許可しますか？」といったポップアップが表示されますので、「Google ドライブに接続」を押下し、google アカウントを選択して、「許可」を選択してください。\")\n",
        "    time.sleep(2)\n",
        "    from google.colab import drive\n",
        "    drive.mount('/content/drive')\n",
        "    print(\"log: Google Driveのマウントが完了しました。\\n\\n\")\n",
        "    #リポジトリのクローン\n",
        "    %cd $directory\n",
        "    !git clone --depth=1 https://github.com/isletennos/MMVC_Trainer/ #履歴要らないのでmax depth=1\n",
        "    print(\"log: リポジトリのクローンが完了しました。\\n\\n\")\n",
        "    #fine_modelのダウンロード\n",
        "    import gdown\n",
        "    %cd {directory}/MMVC_Trainer/fine_model/\n",
        "    gdown.download('https://drive.google.com/uc?id=1MRmB-9EL2-xhxIIraVx20qWqyX-8ZMPw', 'G_180000.pth', quiet=False)\n",
        "    gdown.download('https://drive.google.com/uc?id=1oPbMM7cGz-z0fLgj7DW_wPGRCwvgD2jZ', 'D_180000.pth', quiet=False)\n",
        "    print(\"log: fine_modelのダウンロードが完了しました。\\n\\n\")\n",
        "  else:\n",
        "    #リポジトリのクローン\n",
        "    %cd $directory\n",
        "    !git clone --depth=1 https://github.com/isletennos/MMVC_Trainer/ #履歴要らないのでmax depth=1\n",
        "    print(\"log: リポジトリのクローンが完了しました。\\n\\n\")\n",
        "    #fine_modelのダウンロード\n",
        "    %cd {directory}/MMVC_Trainer/fine_model/\n",
        "    !fileid=\"1MRmB-9EL2-xhxIIraVx20qWqyX-8ZMPw\"; filename=\"G_180000.pth\"; html=`curl -c ./cookie -s -L \"https://drive.google.com/uc?export=download&id=${fileid}\"`; curl -Lb ./cookie \"https://drive.google.com/uc?export=download&`echo ${html}|grep -Po '(confirm=[a-zA-Z0-9\\-_]+)'`&id=${fileid}\" -o ${filename}\n",
        "    !fileid=\"1oPbMM7cGz-z0fLgj7DW_wPGRCwvgD2jZ\"; filename=\"D_180000.pth\"; html=`curl -c ./cookie -s -L \"https://drive.google.com/uc?export=download&id=${fileid}\"`; curl -Lb ./cookie \"https://drive.google.com/uc?export=download&`echo ${html}|grep -Po '(confirm=[a-zA-Z0-9\\-_]+)'`&id=${fileid}\" -o ${filename}\n",
        "    print(\"log: fine_modelのダウンロードが完了しました。\\n\\n\")\n",
        "\n",
        "#実行\n",
        "first_view()\n"
      ]
    },
    {
      "cell_type": "markdown",
      "metadata": {
        "id": "NJpMOTOq8TZJ"
      },
      "source": [
        "​"
      ]
    },
    {
      "cell_type": "code",
      "execution_count": null,
      "metadata": {
        "cellView": "form",
        "id": "8iUwQYbwkED-"
      },
      "outputs": [],
      "source": [
        "#@title ## 3 確認\n",
        "#@markdown 以下のようなメッセージが表示されれば、保存が正常に完了しています。\n",
        "#@markdown ```\n",
        "#@markdown Directory: MMVC_Trainer\n",
        "#@markdown attentions.py\n",
        "#@markdown commons.py\n",
        "#@markdown ...(略)\n",
        "#@markdown\n",
        "#@markdown Directory: MMVC_Trainer/fine_model\n",
        "#@markdown D_180000.pth\n",
        "#@markdown G_180000.pth\n",
        "#@markdown ```\n",
        "\n",
        "print(\"Directory: MMVC_Trainer\")\n",
        "!ls -1 {directory}/MMVC_Trainer\n",
        "print(\"\\n\")\n",
        "print(\"Directory: MMVC_Trainer/fine_model\")\n",
        "!ls -1 {directory}/MMVC_Trainer/fine_model"
      ]
    }
  ],
  "metadata": {
    "colab": {
      "private_outputs": true,
      "provenance": []
    },
    "gpuClass": "standard",
    "kernelspec": {
      "display_name": "Python 3.10.3 64-bit ('3.10.3')",
      "language": "python",
      "name": "python3"
    },
    "language_info": {
      "name": "python",
      "version": "3.10.3"
    },
    "vscode": {
      "interpreter": {
        "hash": "1d520adddc4e1a5213f10b98e1ccff5720e688fc9bcdb28d73f31ce1b610050f"
      }
    }
  },
  "nbformat": 4,
  "nbformat_minor": 0
}