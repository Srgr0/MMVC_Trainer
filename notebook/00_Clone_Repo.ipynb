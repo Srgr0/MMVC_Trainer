{
  "cells": [
    {
      "cell_type": "markdown",
      "metadata": {
        "id": "zO4ySkfLgBIp"
      },
      "source": [
        "# MMVCのリポジトリをGoogle Driveに保存する\n",
        "\n",
        "ver.2022/10/8\n",
        "\n",
        "MMVC_Trainerのリポジトリと事前学習済みモデルを、Google Driveに保存します。"
      ]
    },
    {
      "cell_type": "markdown",
      "metadata": {
        "id": "T5hplryJhQGB",
        "cellView": "form"
      },
      "source": [
        "​"
      ]
    },
    {
      "cell_type": "code",
      "source": [
        "#@title ## 1 Notebookの準備\n",
        "#@markdown このNotebookの実行に必要なパッケージとリポジトリを導入します。\n",
        "\n",
        "#@markdown 「警告: このノートブックは Google が作成したものではありません。」といったポップアップが表示された場合、内容を確認して「このまま実行」を選択してください。このノートブックでは、外部へのデータ送信は一切行われません。\n",
        "\n",
        "#Pythonパッケージのインストール\n",
        "print(\"log: パッケージのインストールを開始します。\")\n",
        "##ipywidgets UIの実装に使用\n",
        "!pip install ipywidgets\n",
        "import ipywidgets as widgets\n",
        "#IPython.display 出力の消去に使用\n",
        "from IPython.display import clear_output\n",
        "#time waitコマンドの実装に使用\n",
        "import time\n",
        "print(\"log: パッケージのインストールが完了しました。\\n\")\n",
        "\n",
        "#MMVC_Trainerリポジトリのクローン\n",
        "print(\"log: リポジトリのクローンを開始します。\")\n",
        "##ブランチ一覧取得したいのでno-single-branch, 履歴要らないのでmax depth=1\n",
        "!git clone --depth=1 --no-single-branch https://github.com/isletennos/MMVC_Trainer/\n",
        "%cd /content/MMVC_Trainer\n",
        "print(\"log: リポジトリのクローンが完了しました。\\n\")\n",
        "\n",
        "#branch一覧取得\n",
        "print(\"log: ブランチの読み込みを開始します。\")\n",
        "##実行ファイルをリポジトリからダウンロードして実行(仮実装)\n",
        "##元リポジトリにファイルを含めるなどした方が良いかもしれない\n",
        "!curl -OL https://raw.githubusercontent.com/Srgr0/MMVC_Trainer_Assets/main/git-branch.sh\n",
        "!bash /content/MMVC_Trainer/git-branch.sh\n",
        "##作成されたbranches.txtを開いてPythonのリストを作る\n",
        "with open(\"/content/MMVC_Trainer/branches.txt\",encoding='utf-8') as inp:\n",
        "  global branches_list #グローバル指定\n",
        "  branches_list = inp.readline().split(',')\n",
        "##Typeの確認(listであればok)\n",
        "print(type(branches_list))\n",
        "##内容の確認\n",
        "print(branches_list)\n",
        "print(\"log: ブランチの読み込みが完了しました。\\n\")"
      ],
      "metadata": {
        "id": "_XCTZsIKu-t2",
        "cellView": "form"
      },
      "execution_count": null,
      "outputs": []
    },
    {
      "cell_type": "markdown",
      "metadata": {
        "id": "GAGK1P8eiNm5"
      },
      "source": [
        "​"
      ]
    },
    {
      "cell_type": "code",
      "execution_count": null,
      "metadata": {
        "id": "w122ZsLxQU3a",
        "cellView": "form"
      },
      "outputs": [],
      "source": [
        "#@title ## 2 セットアップ\n",
        "#@markdown MMVC_Trainerのセットアップを行います。\n",
        "\n",
        "#@markdown まず、セルを実行してください。UIが表示されます。\n",
        "\n",
        "#@markdown Colabを使用している場合\n",
        "#@markdown * PlatformでColabを選択してください。\n",
        "#@markdown * DirectoryでGoogle Driveのマイドライブ以下のパスを指定してください。よく分からない場合は、変更しなくとも構いません。変更しない場合は、マイドライブ直下に保存されます。\n",
        "#@markdown * BranchとFMD_Methodについては、変更不要です。\n",
        "#@markdown * 「このノートブックに Google ドライブのファイルへのアクセスを許可しますか？」といったポップアップが表示されますので、「Google ドライブに接続」を押下し、google アカウントを選択して、「許可」を選択してください。\n",
        "\n",
        "#@markdown ローカルの場合\n",
        "#@markdown * PlatformでLocalを選択してください。\n",
        "#@markdown * Directoryでローカルのパスを指定してください。\n",
        "#@markdown * BranchとFMD_Methodについては、変更不要です。\n",
        "\n",
        "#---関数---\n",
        "def mount_googledrive():\n",
        "  print(\"log: Google Driveのマウントを開始します。\")\n",
        "  print(\"「このノートブックに Google ドライブのファイルへのアクセスを許可しますか？」といったポップアップが表示されますので、「Google ドライブに接続」を押下し、google アカウントを選択して、「許可」を選択してください。\")\n",
        "  time.sleep(2)\n",
        "  print(\"info: 少し時間がかかります。このままお待ちください。\")\n",
        "  from google.colab import drive\n",
        "  drive.mount('/content/drive')\n",
        "  print(\"log: Google Driveのマウントが完了しました。\\n\")\n",
        "\n",
        "def checkout_repository_branch():\n",
        "  print(\"log: リポジトリのチェックアウトを開始します。\")\n",
        "  !git checkout $branch\n",
        "  print(\"log: リポジトリのチェックアウトが完了しました。\\n\")\n",
        "\n",
        "def move_repository():\n",
        "  print(\"log: リポジトリの移動を開始します。\")\n",
        "  !mv \"/content/MMVC_Trainer\" $directory\n",
        "  %cd $directory\n",
        "  print(\"log: リポジトリの移動が完了しました。\\n\")\n",
        "\n",
        "def download_finemodel():\n",
        "  #gdownを使用\n",
        "  print(\"log: fine_modelのダウンロードを開始します。\")\n",
        "  %cd {directory}/MMVC_Trainer/fine_model/\n",
        "  if finemodel_download_method == \"gdown\":\n",
        "    ##gdown Google Driveの共有ファイルのダウンロードに使用\n",
        "    !pip install gdown\n",
        "    import gdown\n",
        "    gdown.download('https://drive.google.com/uc?id=1MRmB-9EL2-xhxIIraVx20qWqyX-8ZMPw', 'G_180000.pth', quiet=False)\n",
        "    gdown.download('https://drive.google.com/uc?id=1oPbMM7cGz-z0fLgj7DW_wPGRCwvgD2jZ', 'D_180000.pth', quiet=False)\n",
        "  elif finemodel_download_method == \"curl\":\n",
        "    !fileid=\"1MRmB-9EL2-xhxIIraVx20qWqyX-8ZMPw\"; filename=\"G_180000.pth\"; html=`curl -c ./cookie -s -L \"https://drive.google.com/uc?export=download&id=${fileid}\"`; curl -Lb ./cookie \"https://drive.google.com/uc?export=download&`echo ${html}|grep -Po '(confirm=[a-zA-Z0-9\\-_]+)'`&id=${fileid}\" -o ${filename}\n",
        "    !fileid=\"1oPbMM7cGz-z0fLgj7DW_wPGRCwvgD2jZ\"; filename=\"D_180000.pth\"; html=`curl -c ./cookie -s -L \"https://drive.google.com/uc?export=download&id=${fileid}\"`; curl -Lb ./cookie \"https://drive.google.com/uc?export=download&`echo ${html}|grep -Po '(confirm=[a-zA-Z0-9\\-_]+)'`&id=${fileid}\" -o ${filename}\n",
        "  print(\"log: fine_modelのダウンロードが完了しました。\\n\")\n",
        "\n",
        "#---関数終わり---\n",
        "\n",
        "#---メイン---\n",
        "def first_view():\n",
        "  #widgetsの構成\n",
        "  global platform_input #グローバル指定\n",
        "  global directory_input #グローバル指定\n",
        "  global branch_input #グローバル指定\n",
        "  global finemodel_download_method_input #グローバル指定\n",
        "  platform_input = widgets.Dropdown(options=[\"Colab\", \"Local\"], value=\"Colab\", description='Platform:', disabled=False)\n",
        "  directory_input = widgets.Text(value='/content/drive/MyDrive', placeholder='/content/drive/MyDrive', description='Directory:', disabled=False)\n",
        "  branch_input = widgets.Dropdown(options=branches_list, value='main', description='Branch:', disabled=False)\n",
        "  finemodel_download_method_input = widgets.Dropdown(options=[\"gdown\", \"curl\"], value=\"gdown\", description='FMD_Method:', disabled=False)\n",
        "  next_1 = widgets.Button(description='次へ', disabled=False)\n",
        "  #widgetsの表示\n",
        "  display(platform_input, directory_input, branch_input, finemodel_download_method_input, next_1)\n",
        "  #ボタンがクリックされたらmainを動かす\n",
        "  next_1.on_click(main)\n",
        "\n",
        "\n",
        "def main(b: widgets.Button) -> None:\n",
        "  clear_output(True)\n",
        "  #入力を変数に入れておく\n",
        "  global directory #グローバル指定\n",
        "  directory = directory_input.value\n",
        "  global platform #グローバル指定\n",
        "  platform = platform_input.value\n",
        "  global branch #グローバル指定\n",
        "  branch = branch_input.value\n",
        "  global finemodel_download_method #グローバル指定\n",
        "  finemodel_download_method = finemodel_download_method_input.value\n",
        "  #Colabとそれ以外で処理を分ける\n",
        "  if platform == \"Colab\":\n",
        "    mount_googledrive() #Google Driveのマウント\n",
        "    checkout_repository_branch() #リポジトリのチェックアウト\n",
        "    move_repository() #リポジトリの移動\n",
        "    download_finemodel() #fine_modelのダウンロード\n",
        "  elif platform == \"Local\":\n",
        "    checkout_repository_branch() #リポジトリのチェックアウト\n",
        "    move_repository() #リポジトリの移動\n",
        "    download_finemodel() #fine_modelのダウンロード\n",
        "\n",
        "#実行\n",
        "first_view()\n"
      ]
    },
    {
      "cell_type": "markdown",
      "metadata": {
        "id": "NJpMOTOq8TZJ"
      },
      "source": [
        "​"
      ]
    },
    {
      "cell_type": "code",
      "execution_count": null,
      "metadata": {
        "cellView": "form",
        "id": "8iUwQYbwkED-"
      },
      "outputs": [],
      "source": [
        "#@title ## 3 確認\n",
        "#@markdown セルを実行して、以下のようなメッセージが表示されれば、保存が正常に完了しています。\n",
        "#@markdown ```\n",
        "#@markdown Directory: MMVC_Trainer\n",
        "#@markdown attentions.py\n",
        "#@markdown commons.py\n",
        "#@markdown ...(略)\n",
        "#@markdown\n",
        "#@markdown Directory: MMVC_Trainer/fine_model\n",
        "#@markdown D_180000.pth\n",
        "#@markdown G_180000.pth\n",
        "#@markdown ```\n",
        "\n",
        "print(\"Directory: MMVC_Trainer\")\n",
        "!ls -1 {directory}/MMVC_Trainer\n",
        "print(\"\\n\")\n",
        "print(\"Directory: MMVC_Trainer/fine_model\")\n",
        "!ls -1 {directory}/MMVC_Trainer/fine_model"
      ]
    }
  ],
  "metadata": {
    "colab": {
      "private_outputs": true,
      "provenance": []
    },
    "gpuClass": "standard",
    "kernelspec": {
      "display_name": "Python 3.10.3 64-bit ('3.10.3')",
      "language": "python",
      "name": "python3"
    },
    "language_info": {
      "name": "python",
      "version": "3.10.3"
    },
    "vscode": {
      "interpreter": {
        "hash": "1d520adddc4e1a5213f10b98e1ccff5720e688fc9bcdb28d73f31ce1b610050f"
      }
    }
  },
  "nbformat": 4,
  "nbformat_minor": 0
}