{
  "cells": [
    {
      "cell_type": "markdown",
      "metadata": {
        "id": "zO4ySkfLgBIp"
      },
      "source": [
        "# MMVCのリポジトリをGoogle Driveに保存する\n",
        "\n",
        "ver.2022/12/19\n",
        "\n",
        "MMVC_Trainerのリポジトリと事前学習済みモデルを、Google Driveに保存します。"
      ]
    },
    {
      "cell_type": "markdown",
      "metadata": {
        "cellView": "form",
        "id": "T5hplryJhQGB"
      },
      "source": [
        "​"
      ]
    },
    {
      "cell_type": "code",
      "execution_count": null,
      "metadata": {
        "cellView": "form",
        "id": "_XCTZsIKu-t2"
      },
      "outputs": [],
      "source": [
        "#@title ## 1 Notebookの準備\n",
        "#@markdown このNotebookの実行に必要なパッケージとリポジトリを導入します。\n",
        "\n",
        "#@markdown 「警告: このノートブックは Google が作成したものではありません。」といったポップアップが表示された場合、内容を確認して「このまま実行」を選択してください。このノートブックでは、外部へのデータ送信は一切行われません。\n",
        "\n",
        "#Pythonパッケージのインストール\n",
        "print(\"log: パッケージのインストールを開始します。\")\n",
        "##ipywidgets UIの実装に使用\n",
        "!pip install ipywidgets\n",
        "import ipywidgets as widgets\n",
        "#IPython.display 出力の消去に使用\n",
        "from IPython.display import clear_output\n",
        "#time waitコマンドの実装に使用\n",
        "import time\n",
        "#git-lfs 事前学習済みモデルのダウンロードに使用\n",
        "!apt install git-lfs\n",
        "print(\"log: パッケージのインストールが完了しました。\\n\")\n",
        "\n",
        "#MMVC_Trainerリポジトリのクローン\n",
        "print(\"log: MMVC_Trainerリポジトリの読み込みを開始します。\")\n",
        "#ホームディレクトリに戻る\n",
        "%cd /content\n",
        "##ブランチ一覧取得したいのでno-single-branch, 履歴要らないのでmax depth=1\n",
        "!git clone --depth=1 --no-single-branch https://github.com/isletennos/MMVC_Trainer/\n",
        "%cd /content/MMVC_Trainer\n",
        "print(\"log: MMVC_Trainerリポジトリの読み込みが完了しました。\\n\")\n",
        "\n",
        "#branch一覧取得\n",
        "print(\"log: MMVC_Trainerリポジトリのブランチの読み込みを開始します。\")\n",
        "##実行ファイルをリポジトリからダウンロードして実行(仮実装)\n",
        "##元リポジトリにファイルを含めるなどした方が良いかもしれない\n",
        "!curl -OL https://raw.githubusercontent.com/Srgr0/MMVC_Trainer_Assets/main/git-branch.sh\n",
        "!bash /content/MMVC_Trainer/git-branch.sh\n",
        "##作成されたbranches.txtを開いてPythonのリストを作る\n",
        "with open(\"/content/MMVC_Trainer/branches.txt\",encoding='utf-8') as inp:\n",
        "  global repo_branches_list #グローバル指定\n",
        "  repo_branches_list = inp.readline().split(',')\n",
        "##Typeの確認(listであればok)\n",
        "print(type(repo_branches_list))\n",
        "##内容の確認\n",
        "print(repo_branches_list)\n",
        "print(\"log: MMVC_Trainerリポジトリのブランチの読み込みが完了しました。\\n\")\n",
        "\n",
        "#事前学習済みモデルのクローン\n",
        "print(\"log: 事前学習済みモデルの読み込みを開始します。\")\n",
        "#ホームディレクトリに戻る\n",
        "%cd /content\n",
        "#git-lfsを有効化\n",
        "!git lfs install\n",
        "##ブランチ一覧取得したいのでno-single-branch, 履歴要らないのでmax depth=1\n",
        "##この時点ではgit lfs入れない\n",
        "!GIT_LFS_SKIP_SMUDGE=1 git clone --depth=1 --no-single-branch https://huggingface.co/MMVC/prelearned-model\n",
        "%cd /content/prelearned-model\n",
        "print(\"log: 事前学習済みモデルの読み込みが完了しました。\\n\")\n",
        "\n",
        "print(\"log: 事前学習済みモデルのブランチの読み込みを開始します。\")\n",
        "##実行ファイルをリポジトリからダウンロードして実行(仮実装)\n",
        "##元リポジトリにファイルを含めるなどした方が良いかもしれない\n",
        "!curl -OL https://raw.githubusercontent.com/Srgr0/MMVC_Trainer_Assets/main/git-branch.sh\n",
        "!bash /content/prelearned-model/git-branch.sh\n",
        "##作成されたbranches.txtを開いてPythonのリストを作る\n",
        "with open(\"/content/prelearned-model/branches.txt\",encoding='utf-8') as inp:\n",
        "  global plm_branches_list #グローバル指定\n",
        "  plm_branches_list = inp.readline().split(',')\n",
        "##Typeの確認(listであればok)\n",
        "print(type(plm_branches_list))\n",
        "##内容の確認\n",
        "print(plm_branches_list)\n",
        "print(\"log: 事前学習済みモデルのブランチの読み込みが完了しました。\\n\")"
      ]
    },
    {
      "cell_type": "markdown",
      "metadata": {
        "id": "GAGK1P8eiNm5"
      },
      "source": [
        "​"
      ]
    },
    {
      "cell_type": "code",
      "execution_count": null,
      "metadata": {
        "cellView": "form",
        "id": "w122ZsLxQU3a"
      },
      "outputs": [],
      "source": [
        "#@title ## 2 セットアップ\n",
        "#@markdown MMVC_Trainerのセットアップを行います。\n",
        "\n",
        "#@markdown まず、セルを実行してください。UIが表示されます。\n",
        "\n",
        "#@markdown Colabを使用している場合\n",
        "#@markdown * PlatformでColabを選択してください。\n",
        "#@markdown * DirectoryでMMVC_Trainerの保存先となる、Google Driveのマイドライブ以下のパスを指定してください。よく分からない場合は、変更しなくとも構いません。変更しない場合は、マイドライブ直下に保存されます。\n",
        "#@markdown * Repo-Branch, PLM-Branch, FMD_Methodについては、変更不要です。\n",
        "#@markdown * 「このノートブックに Google ドライブのファイルへのアクセスを許可しますか？」といったポップアップが表示されますので、「Google ドライブに接続」を押下し、google アカウントを選択して、「許可」を選択してください。\n",
        "\n",
        "#@markdown ローカルの場合\n",
        "#@markdown * PlatformでLocalを選択してください。\n",
        "#@markdown * DirectoryでMMVC_Trainerの保存先となる、ローカルのパスを指定してください。\n",
        "#@markdown * Repo-Branch, PLM-Branch, FMD_Methodについては、変更不要です。\n",
        "\n",
        "\n",
        "#---関数---\n",
        "def mount_googledrive():\n",
        "  print(\"log: Google Driveのマウントを開始します。\")\n",
        "  print(\"「このノートブックに Google ドライブのファイルへのアクセスを許可しますか？」といったポップアップが表示されますので、「Google ドライブに接続」を押下し、google アカウントを選択して、「許可」を選択してください。\")\n",
        "  time.sleep(2)\n",
        "  print(\"info: 少し時間がかかります。このままお待ちください。\")\n",
        "  from google.colab import drive\n",
        "  drive.mount('/content/drive')\n",
        "  print(\"log: Google Driveのマウントが完了しました。\\n\")\n",
        "\n",
        "def checkout_repository_branch():\n",
        "  print(\"log: MMVC_Trainerリポジトリのチェックアウトを開始します。\")\n",
        "  %cd /content/MMVC_Trainer\n",
        "  print(\"branch:\", repo_branch)\n",
        "  !git checkout $repo_branch\n",
        "  print(\"log: MMVC_Trainerリポジトリのチェックアウトが完了しました。\\n\")\n",
        "\n",
        "def move_repository():\n",
        "  print(\"log: MMVC_Trainerリポジトリの移動を開始します。\")\n",
        "  print(\"log: 数分かかる場合もありますので、気長にお待ちください。\")\n",
        "  print(\"移動先:\", path)\n",
        "  !mv \"/content/MMVC_Trainer\" {path}\n",
        "  %cd {path}\n",
        "  print(\"log: MMVC_Trainerリポジトリの移動が完了しました。\\n\")\n",
        "\n",
        "def download_finemodel():\n",
        "  print(\"log: 事前学習済みモデルのチェックアウトを開始します。\")\n",
        "  #branch変更\n",
        "  %cd /content/prelearned-model\n",
        "  print(\"branch:\", plm_branch)\n",
        "  !git checkout $plm_branch\n",
        "  print(\"log: 事前学習済みモデルのチェックアウトが完了しました。\\n\")\n",
        "  print(\"log: 事前学習済みモデルのダウンロードを開始します。\")\n",
        "  !git lfs fetch\n",
        "  !git lfs pull\n",
        "  !mv *.pth {path}/fine_model/\n",
        "  print(\"\\nlog: 事前学習済みモデルのダウンロードが完了しました。\\n\")\n",
        "\n",
        "#---関数終わり---\n",
        "\n",
        "\n",
        "#---メイン---\n",
        "def first_view():\n",
        "  #widgetsの構成\n",
        "  global platform_input #グローバル指定\n",
        "  global directory_input #グローバル指定\n",
        "  global repo_branch_input #グローバル指定\n",
        "  global plm_branch_input #グローバル指定\n",
        "  platform_input = widgets.Dropdown(options=[\"Colab\", \"Local\"], value=\"Colab\", description='Platform:', disabled=False)\n",
        "  directory_input = widgets.Text(value='/content/drive/MyDrive', placeholder='/content/drive/MyDrive', description='Directory:', disabled=False)\n",
        "  repo_branch_input = widgets.Dropdown(options=repo_branches_list, value='main', description='Repo-Branch:', disabled=False)\n",
        "  plm_branch_input = widgets.Dropdown(options=plm_branches_list, value='main', description='PLM-Branch:', disabled=False)\n",
        "  next_1 = widgets.Button(description='次へ', disabled=False)\n",
        "  #widgetsの表示\n",
        "  display(platform_input, directory_input, repo_branch_input, plm_branch_input, next_1)\n",
        "  #ボタンがクリックされたらmainを動かす\n",
        "  next_1.on_click(main)\n",
        "\n",
        "\n",
        "def main(b: widgets.Button) -> None:\n",
        "  clear_output(True)\n",
        "  #入力を変数に入れておく\n",
        "  global directory #グローバル指定\n",
        "  directory = directory_input.value\n",
        "  global platform #グローバル指定\n",
        "  platform = platform_input.value\n",
        "  global repo_branch #グローバル指定\n",
        "  repo_branch = repo_branch_input.value\n",
        "  global plm_branch #グローバル指定\n",
        "  plm_branch = plm_branch_input.value\n",
        "  global path #グローバル指定\n",
        "  path = directory + \"/MMVC_Trainer-\" + repo_branch\n",
        "  #Colabとそれ以外で処理を分ける\n",
        "  if platform == \"Colab\":\n",
        "    mount_googledrive() #Google Driveのマウント\n",
        "    checkout_repository_branch() #MMVC_Trainerリポジトリのチェックアウト\n",
        "    move_repository() #MMVC_Trainerリポジトリの移動\n",
        "    download_finemodel() #事前学習済みモデルのダウンロード\n",
        "    print(\"処理が完了しました。\\n\")\n",
        "  elif platform == \"Local\":\n",
        "    checkout_repository_branch() #MMVC_Trainerリポジトリのチェックアウト\n",
        "    move_repository() #MMVC_Trainerリポジトリの移動\n",
        "    download_finemodel() #事前学習済みモデルのダウンロード\n",
        "    print(\"処理が完了しました。\\n\")\n",
        "\n",
        "\n",
        "#実行\n",
        "first_view()\n"
      ]
    },
    {
      "cell_type": "markdown",
      "metadata": {
        "id": "NJpMOTOq8TZJ"
      },
      "source": [
        "​"
      ]
    },
    {
      "cell_type": "code",
      "execution_count": null,
      "metadata": {
        "cellView": "form",
        "id": "8iUwQYbwkED-"
      },
      "outputs": [],
      "source": [
        "#@title ## 3 確認\n",
        "#@markdown セルを実行して、以下のようなメッセージが表示されれば、保存が正常に完了しています。\n",
        "#@markdown ```\n",
        "#@markdown Directory: MMVC_Trainer\n",
        "#@markdown attentions.py\n",
        "#@markdown commons.py\n",
        "#@markdown ...(略)\n",
        "#@markdown\n",
        "#@markdown Directory: MMVC_Trainer/fine_model\n",
        "#@markdown D_70000.pth\n",
        "#@markdown G_70000.pth\n",
        "#@markdown ```\n",
        "\n",
        "print(\"Directory:\", path)\n",
        "!ls -1 {path}\n",
        "print(\"\\n\")\n",
        "print(\"Directory:\", path, \"/fine_model\")\n",
        "!ls -1 {path}/fine_model"
      ]
    }
  ],
  "metadata": {
    "colab": {
      "private_outputs": true,
      "provenance": []
    },
    "gpuClass": "standard",
    "kernelspec": {
      "display_name": "Python 3.10.3 64-bit ('3.10.3')",
      "language": "python",
      "name": "python3"
    },
    "language_info": {
      "name": "python",
      "version": "3.10.3"
    },
    "vscode": {
      "interpreter": {
        "hash": "1d520adddc4e1a5213f10b98e1ccff5720e688fc9bcdb28d73f31ce1b610050f"
      }
    }
  },
  "nbformat": 4,
  "nbformat_minor": 0
}
