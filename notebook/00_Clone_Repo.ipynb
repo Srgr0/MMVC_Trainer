{
  "cells": [
    {
      "cell_type": "markdown",
      "metadata": {
        "id": "zO4ySkfLgBIp"
      },
      "source": [
        "# MMVCのリポジトリをGoogle Driveに保存する\n",
        "\n",
        "ver.2022/10/3\n",
        "\n",
        "MMVC_Trainerのリポジトリと事前学習済みモデルを、Google Driveに保存します。"
      ]
    },
    {
      "cell_type": "markdown",
      "metadata": {
        "id": "T5hplryJhQGB"
      },
      "source": [
        "​"
      ]
    },
    {
      "cell_type": "code",
      "source": [
        "#@title ## 0 Notebookの準備\n",
        "#@markdown このNotebookの実行に必要なパッケージをインストールします。\n",
        "\n",
        "#@markdown 「警告: このノートブックは Google が作成したものではありません。」といったポップアップが表示された場合、内容を確認して「このまま実行」を選択してください。このノートブックでは、外部へのデータ送信は一切行われません。\n",
        "\n",
        "!pip install ipywidgets\n",
        "import ipywidgets as widgets"
      ],
      "metadata": {
        "cellView": "form",
        "id": "_XCTZsIKu-t2"
      },
      "execution_count": null,
      "outputs": []
    },
    {
      "cell_type": "markdown",
      "metadata": {
        "id": "OOnLUfI35b_w"
      },
      "source": [
        "​"
      ]
    },
    {
      "cell_type": "code",
      "execution_count": null,
      "metadata": {
        "cellView": "form",
        "id": "hdfce8bPkpMB"
      },
      "outputs": [],
      "source": [
        "#@title ## 1 Google Driveをマウント\n",
        "#@markdown **このノートブックで、Google Driveを使用するための設定です。**\n",
        "\n",
        "#@markdown 　「このノートブックに Google ドライブのファイルへのアクセスを許可しますか？」といったポップアップが表示されるので、「Google ドライブに接続」を押下し、google アカウントを選択して、「許可」を選択してください。\n",
        "\n",
        "#@markdown 成功すれば、下記メッセージが出ます。 { display-mode: \"form\" }\n",
        "\n",
        "#@markdown ``` \n",
        "#@markdown Mounted at /content/drive/\n",
        "#@markdown ```\n",
        "\n",
        "from google.colab import drive\n",
        "drive.mount('/content/drive')"
      ]
    },
    {
      "cell_type": "markdown",
      "metadata": {
        "id": "GAGK1P8eiNm5"
      },
      "source": [
        "​"
      ]
    },
    {
      "cell_type": "code",
      "execution_count": null,
      "metadata": {
        "cellView": "form",
        "id": "7yZhO-jgI9k3"
      },
      "outputs": [],
      "source": [
        "#@title ## 2 MMVC_Trainerのクローン\n",
        "#@markdown セルを実行すると、保存先のパスの入力欄と実行ボタンが表示されます。\n",
        "\n",
        "#@markdown 必要に応じてパスを変更した後、実行をクリックしてください。\n",
        "\n",
        "#@markdown パスで指定したディレクトリ上に、MMVC_Trainerというフォルダが作成されます。\n",
        "\n",
        "#@markdown 成功すると、最後に以下のようなメッセージが表示されます。\n",
        "#@markdown ```\n",
        "#@markdown Checking out files: 100% (902/902), done.\n",
        "#@markdown ```\n",
        "\n",
        "def clone_repo():\n",
        "  directory_input = widgets.Text(value='/content/drive/MyDrive', placeholder='/content/drive/MyDrive', description='Directory:', disabled=False)\n",
        "  clone_repo_excuse = widgets.Button(description='実行', disabled=False)\n",
        "\n",
        "  def clone_repo_on_click(b: widgets.Button) -> None:\n",
        "    global directory\n",
        "    directory = directory_input.value\n",
        "    %cd $directory\n",
        "    !git clone --depth=1 https://github.com/isletennos/MMVC_Trainer/\n",
        "\n",
        "  clone_repo_excuse.on_click(clone_repo_on_click)\n",
        "  display(directory_input, clone_repo_excuse)\n",
        "\n",
        "clone_repo()"
      ]
    },
    {
      "cell_type": "markdown",
      "metadata": {
        "id": "V5xVjAYzkAyW"
      },
      "source": [
        "​"
      ]
    },
    {
      "cell_type": "code",
      "execution_count": null,
      "metadata": {
        "cellView": "form",
        "id": "xWRi8E8m4nFV"
      },
      "outputs": [],
      "source": [
        "#@title ## 3 fine_modelのダウンロード\n",
        "#@markdown 事前学習済みのモデルをダウンロードします。\n",
        "\n",
        "#@markdown セルを実行し、Colabを使用している場合はColab、それ以外の場合はOtherを選択してから実行をクリックしてください。\n",
        "\n",
        "def download_finemodel():\n",
        "  using_colab_input = widgets.Dropdown(options=[\"Colab\", \"Other\"], value=\"Colab\", description='Using_Colab:', disabled=False)\n",
        "  download_finemodel_excuse = widgets.Button(description='実行', disabled=False)\n",
        "\n",
        "  def download_finemodel_on_click(b: widgets.Button) -> None:\n",
        "      using_colab = using_colab_input.value\n",
        "      if using_colab == \"Colab\":\n",
        "        import gdown\n",
        "        %cd {directory}/MMVC_Trainer/fine_model/\n",
        "        gdown.download('https://drive.google.com/uc?id=1MRmB-9EL2-xhxIIraVx20qWqyX-8ZMPw', 'G_180000.pth', quiet=False)\n",
        "        gdown.download('https://drive.google.com/uc?id=1oPbMM7cGz-z0fLgj7DW_wPGRCwvgD2jZ', 'D_180000.pth', quiet=False)\n",
        "      else:\n",
        "        %cd {directory}/MMVC_Trainer/fine_model/\n",
        "        !fileid=\"1MRmB-9EL2-xhxIIraVx20qWqyX-8ZMPw\"; filename=\"G_180000.pth\"; html=`curl -c ./cookie -s -L \"https://drive.google.com/uc?export=download&id=${fileid}\"`; curl -Lb ./cookie \"https://drive.google.com/uc?export=download&`echo ${html}|grep -Po '(confirm=[a-zA-Z0-9\\-_]+)'`&id=${fileid}\" -o ${filename}\n",
        "        !fileid=\"1oPbMM7cGz-z0fLgj7DW_wPGRCwvgD2jZ\"; filename=\"D_180000.pth\"; html=`curl -c ./cookie -s -L \"https://drive.google.com/uc?export=download&id=${fileid}\"`; curl -Lb ./cookie \"https://drive.google.com/uc?export=download&`echo ${html}|grep -Po '(confirm=[a-zA-Z0-9\\-_]+)'`&id=${fileid}\" -o ${filename}\n",
        "\n",
        "  download_finemodel_excuse.on_click(download_finemodel_on_click)\n",
        "  display(using_colab_input, download_finemodel_excuse)\n",
        "\n",
        "download_finemodel()"
      ]
    },
    {
      "cell_type": "markdown",
      "metadata": {
        "id": "NJpMOTOq8TZJ"
      },
      "source": [
        "​"
      ]
    },
    {
      "cell_type": "code",
      "execution_count": null,
      "metadata": {
        "cellView": "form",
        "id": "8iUwQYbwkED-"
      },
      "outputs": [],
      "source": [
        "#@title ## 4 確認\n",
        "#@markdown 以下のようなメッセージが表示されれば、保存が正常に完了しています。\n",
        "#@markdown ```\n",
        "#@markdown Directory: MMVC_Trainer\n",
        "#@markdown attentions.py\n",
        "#@markdown commons.py\n",
        "#@markdown ...(略)\n",
        "#@markdown\n",
        "#@markdown Directory: MMVC_Trainer/fine_model\n",
        "#@markdown D_180000.pth\n",
        "#@markdown G_180000.pth\n",
        "#@markdown ```\n",
        "\n",
        "print(\"Directory: MMVC_Trainer\")\n",
        "!ls -1 {directory}/MMVC_Trainer\n",
        "print(\"\\n\")\n",
        "print(\"Directory: MMVC_Trainer/fine_model\")\n",
        "!ls -1 {directory}/MMVC_Trainer/fine_model"
      ]
    }
  ],
  "metadata": {
    "colab": {
      "private_outputs": true,
      "provenance": []
    },
    "gpuClass": "standard",
    "kernelspec": {
      "display_name": "Python 3.10.3 64-bit ('3.10.3')",
      "language": "python",
      "name": "python3"
    },
    "language_info": {
      "name": "python",
      "version": "3.10.3"
    },
    "vscode": {
      "interpreter": {
        "hash": "1d520adddc4e1a5213f10b98e1ccff5720e688fc9bcdb28d73f31ce1b610050f"
      }
    }
  },
  "nbformat": 4,
  "nbformat_minor": 0
}