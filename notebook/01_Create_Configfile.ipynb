{
  "cells": [
    {
      "cell_type": "markdown",
      "metadata": {
        "id": "Q3egrWHAzs7H"
      },
      "source": [
        "# MMVCの学習に必要なconfig系Fileを作成する\n",
        "\n",
        "ver.2022/10/30\n",
        "\n",
        "「Google Colaboratory」を利用したMMVCの学習に必要なファイルを生成します。\n"
      ]
    },
    {
      "cell_type": "markdown",
      "source": [
        "​"
      ],
      "metadata": {
        "id": "YJ94p4WXiBNu"
      }
    },
    {
      "cell_type": "code",
      "source": [
        "#@title ## 1 Notebookの準備\n",
        "#@markdown このNotebookの実行に必要なパッケージを導入します。\n",
        "\n",
        "#@markdown 時間がかかりますので、気長にお待ちください。\n",
        "\n",
        "#Pythonパッケージのインストール\n",
        "print(\"log: パッケージのインストールを開始します。\")\n",
        "##ipywidgets UIの実装に使用\n",
        "!pip install ipywidgets\n",
        "import ipywidgets as widgets\n",
        "#IPython.display 出力の消去に使用\n",
        "from IPython.display import clear_output\n",
        "#time waitコマンドの実装に使用\n",
        "import time\n",
        "#pyopenjtalk configファイルの作成に使用\n",
        "print(\"info: 次のパッケージのインストールには時間がかかります。気長にお待ちください。\")\n",
        "!pip install pyopenjtalk\n",
        "print(\"log: パッケージのインストールが完了しました。\\n\")"
      ],
      "metadata": {
        "cellView": "form",
        "id": "GxDE4wrvbLHC"
      },
      "execution_count": null,
      "outputs": []
    },
    {
      "cell_type": "markdown",
      "source": [
        "​"
      ],
      "metadata": {
        "id": "0TR-0ojLzatj"
      }
    },
    {
      "cell_type": "code",
      "source": [
        "#@title ## 2 リポジトリの準備\n",
        "#@markdown リポジトリの準備を行います。\n",
        "\n",
        "#@markdown まず、セルを実行してください。UIが表示されます。\n",
        "\n",
        "#@markdown Colabを使用している場合\n",
        "#@markdown * PlatformでColabを選択してください。\n",
        "#@markdown * PathでMMVC_Trainerの保存先となる、Google Driveのマイドライブ以下のパスを指定してください。よく分からない場合は、変更しなくとも構いません。変更しない場合は、マイドライブ直下に保存されます。\n",
        "#@markdown * 「このノートブックに Google ドライブのファイルへのアクセスを許可しますか？」といったポップアップが表示されますので、「Google ドライブに接続」を押下し、google アカウントを選択して、「許可」を選択してください。\n",
        "\n",
        "#@markdown ローカルの場合\n",
        "#@markdown * PlatformでLocalを選択してください。\n",
        "#@markdown * PathでMMVC_Trainerの保存先となる、ローカルのパスを指定してください。\n",
        "\n",
        "\n",
        "#---関数---\n",
        "def mount_googledrive():\n",
        "  print(\"log: Google Driveのマウントを開始します。\")\n",
        "  print(\"「このノートブックに Google ドライブのファイルへのアクセスを許可しますか？」といったポップアップが表示されますので、「Google ドライブに接続」を押下し、google アカウントを選択して、「許可」を選択してください。\")\n",
        "  time.sleep(2)\n",
        "  print(\"info: 少し時間がかかります。このままお待ちください。\")\n",
        "  from google.colab import drive\n",
        "  drive.mount('/content/drive')\n",
        "  print(\"log: Google Driveのマウントが完了しました。\\n\")\n",
        "\n",
        "#---関数終わり---\n",
        "\n",
        "def first_view():\n",
        "  #widgetsの構成\n",
        "  global platform_input #グローバル指定\n",
        "  #global directory_input #グローバル指定\n",
        "  #global branch_input #グローバル指定\n",
        "  global path_input #グローバル指定\n",
        "  platform_input = widgets.Dropdown(options=[\"Colab\", \"Local\"], value=\"Colab\", description='Platform:', disabled=False)\n",
        "  path_input = widgets.Text(value='/content/drive/MyDrive/MMVC_Trainer_main', placeholder='/content/drive/MyDrive/MMVC_Trainer_main', description='Path:', disabled=False)\n",
        "  #directory_input = widgets.Text(value='/content/drive/MyDrive/MMVC_Trainer', placeholder='/content/drive/MyDrive/MMVC_Trainer', description='Directory:', disabled=False)\n",
        "  #branch_input = widgets.Text(value='main', placeholder='main', description='Branch:', disabled=False)\n",
        "  next_1 = widgets.Button(description='次へ', disabled=False)\n",
        "  #widgetsの表示\n",
        "  display(platform_input, path_input, next_1)\n",
        "  #ボタンがクリックされたらmainを動かす\n",
        "  next_1.on_click(main)\n",
        "\n",
        "def main(b: widgets.Button) -> None:\n",
        "  clear_output(True)\n",
        "  #入力を変数に入れておく\n",
        "  #global directory #グローバル指定\n",
        "  #directory = directory_input.value\n",
        "  global platform #グローバル指定\n",
        "  platform = platform_input.value\n",
        "  #global branch #グローバル指定\n",
        "  #branch = branch_input.value\n",
        "  global path #グローバル指定\n",
        "  #path = directory + \"/MMVC_Trainer_\" + branch\n",
        "  path = path_input.value\n",
        "  #Colabとそれ以外で処理を分ける\n",
        "  if platform == \"Colab\":\n",
        "    mount_googledrive() #Google Driveのマウント\n",
        "    %cd $path\n",
        "  elif platform == \"Local\":\n",
        "    %cd $path\n",
        "\n",
        "#実行\n",
        "first_view()"
      ],
      "metadata": {
        "cellView": "form",
        "id": "AY9VJFRv6rnY"
      },
      "execution_count": null,
      "outputs": []
    },
    {
      "cell_type": "markdown",
      "source": [
        "​"
      ],
      "metadata": {
        "id": "HPqdW0RWzc_U"
      }
    },
    {
      "cell_type": "code",
      "source": [
        "#@title ## 4 config系Fileを作成する\n",
        "#@markdown 学習に必要なファイルを実行します。\n",
        "\n",
        "#@markdown まず、セルを実行してUIを表示させてください。\n",
        "\n",
        "#@markdown 次に、以下のオプションを必要に応じて変更して、次へをクリックしてください。\n",
        "\n",
        "#@markdown 実行時に  \n",
        "#@markdown　**「WARNING: JPCommonLabel_insert_pause() in jpcommon_label.c: First mora should not be short pause.」**  \n",
        "#@markdown と表示されますが、無視して大丈夫です。 \n",
        "\n",
        "\n",
        "#@markdown ​\n",
        "#@markdown ### Settings\n",
        "#@markdown -f：作成するconfig系Fileの名前です。  よく分からない場合は変更不要です。\n",
        "\n",
        "#@markdown -s：サンプリングレートです。datasetの音声のサンプリングレートに合わせて指定ください。よく分からない場合は変更不要です。  \n",
        "\n",
        "#@markdown -t：ターゲットとなるキャラクターの設定です。\n",
        "#@markdown ずんだもんの学習を行いたい場合は「100」 、\n",
        "#@markdown 九州そらの学習を行いたい場合は「101」、\n",
        "#@markdown 四国めたんの学習を行いたい場合は「102」、  \n",
        "#@markdown 春日部つむぎの学習を行いたい場合は「103」\n",
        "#@markdown を設定するとクオリティがあがる**かも**しれません。\n",
        "#@markdown 非サポートキャラは「108」を指定します。\n",
        "\n",
        "#@markdown -m：複数話者の学習を同時に行いたい場合に使用します。\n",
        "#@markdown multi_speaker_correspondence.txt を ```textful配下のディレクトリ名|0～109の番号``` となるように書き換えた後、オンにしてください。このオプションがtrueの場合、-tは無視されます。\n",
        "\n",
        "#@markdown -cについては、普通に使用する場合には必要ありません。\n",
        "\n",
        "def first_view():\n",
        "  #widgetsの構成\n",
        "  global config_name_input #グローバル指定\n",
        "  global sample_rate_input #グローバル指定\n",
        "  global character_select_input #グローバル指定\n",
        "  global multi_speakers_input #グローバル指定\n",
        "  config_name_input = widgets.Text(value=\"train_config\", placeholder=\"train_config\", description='config_name:', disabled=False)\n",
        "  sample_rate_input = widgets.IntText(value=24000, placeholder=24000, description='sample_rate:', disabled=False)\n",
        "  character_select_input = widgets.Dropdown(options=['100', '101', '102', '103', '108'], value='100', description='character_select:', disabled=False)\n",
        "  multi_speakers_input = widgets.Checkbox(value=False, description='multi_speakers:', disabled=False)\n",
        "  next_1 = widgets.Button(description='次へ', disabled=False)\n",
        "  display(config_name_input, sample_rate_input, character_select_input, multi_speakers_input, next_1)\n",
        "  #ボタンがクリックされたらmainを動かす\n",
        "  next_1.on_click(main)\n",
        "\n",
        "\n",
        "def main(b: widgets.Button) -> None:\n",
        "  clear_output(True)\n",
        "  #入力を変数に入れておく\n",
        "  global config_name #グローバル指定\n",
        "  config_name = config_name_input.value\n",
        "  global sample_rate #グローバル指定\n",
        "  sample_rate = sample_rate_input.value\n",
        "  global character_select #グローバル指定\n",
        "  character_select = character_select_input.value\n",
        "  global multi_speakers #グローバル指定\n",
        "  multi_speakers = multi_speakers_input.value\n",
        "  #multi_speakersのTrue/Falseで処理を分ける\n",
        "  print(\"configファイルの作成を開始します。\")\n",
        "  if multi_speakers == True:\n",
        "    print(\"multi_speakers:\" + str(multi_speakers))\n",
        "    !python create_dataset_jtalk.py -f $config_name -s $sample_rate -m dataset/multi_speaker_correspondence.txt\n",
        "  elif multi_speakers == False:\n",
        "    print(\"multi_speakers:\" + str(multi_speakers))\n",
        "    !python create_dataset_jtalk.py -f $config_name -s $sample_rate -t $character_select\n",
        "  print(\"configファイルの作成が完了しました。\")\n",
        "\n",
        "#実行\n",
        "first_view()"
      ],
      "metadata": {
        "id": "WhpHB7200irN",
        "cellView": "form"
      },
      "execution_count": null,
      "outputs": []
    },
    {
      "cell_type": "markdown",
      "source": [
        "​"
      ],
      "metadata": {
        "id": "B5lhnVQbOIoe"
      }
    },
    {
      "cell_type": "code",
      "source": [
        "#@title ## 5 確認\n",
        "#@markdown 以下のようなメッセージが表示されれば、保存が正常に完了しています。\n",
        "#@markdown ```\n",
        "#@markdown Directory: filelists\n",
        "#@markdown 指定したconfig系Fileの名前_textful.txt\n",
        "#@markdown 指定したconfig系Fileの名前_textful_val.txt\n",
        "#@markdown 指定したconfig系Fileの名前_textless.txt\n",
        "#@markdown 指定したconfig系Fileの名前_val_textless.txt\n",
        "#@markdown 指定したconfig系Fileの名前_Correspondence.txt\n",
        "#@markdown\n",
        "#@markdown Directory: configs\n",
        "#@markdown baseconfig.json\n",
        "#@markdown 指定したconfig系Fileの名前.json\n",
        "#@markdown ```\n",
        "\n",
        "print(\"Directory: filelists\")\n",
        "!ls -1 {path}/filelists\n",
        "print(\"\\n\")\n",
        "print(\"Directory: configs\")\n",
        "!ls -1 {path}/configs"
      ],
      "metadata": {
        "id": "dyJf0ntg1NKT",
        "cellView": "form",
        "outputId": "990e85de-f8c6-4139-d036-21212b247c7e",
        "colab": {
          "base_uri": "https://localhost:8080/"
        }
      },
      "execution_count": 4,
      "outputs": [
        {
          "output_type": "stream",
          "name": "stdout",
          "text": [
            "Directory: filelists\n",
            "ls: cannot access '{directory}/filelists': No such file or directory\n",
            "\n",
            "\n",
            "Directory: configs\n",
            "ls: cannot access '{directory}/configs': No such file or directory\n"
          ]
        }
      ]
    }
  ],
  "metadata": {
    "colab": {
      "collapsed_sections": [],
      "name": "01_Create_Configfile.ipynb",
      "provenance": []
    },
    "kernelspec": {
      "display_name": "Python 3.9.6 64-bit",
      "language": "python",
      "name": "python3"
    },
    "language_info": {
      "name": "python",
      "version": "3.9.6"
    },
    "vscode": {
      "interpreter": {
        "hash": "d3394867249fd41ee68869925f4586b97ae8a94f3c93a4c25403e9e75f272611"
      }
    }
  },
  "nbformat": 4,
  "nbformat_minor": 0
}