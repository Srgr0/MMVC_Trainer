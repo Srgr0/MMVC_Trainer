{
  "cells": [
    {
      "cell_type": "markdown",
      "metadata": {
        "id": "qjxnLNp4TAqD"
      },
      "source": [
        "# MMVCの学習\n",
        "\n",
        "ver.2022/10/30\n",
        "\n",
        "MMVCで利用するVITSの学習を行います。"
      ]
    },
    {
      "cell_type": "markdown",
      "source": [
        "​"
      ],
      "metadata": {
        "id": "DTaWXYH8r0f4"
      }
    },
    {
      "cell_type": "code",
      "source": [
        "#@title ## 1 Notebookの準備\n",
        "#@markdown このNotebookの実行に必要なパッケージを導入します。\n",
        "\n",
        "#@markdown 時間がかかりますので、気長にお待ちください。\n",
        "\n",
        "#Pythonパッケージのインストール\n",
        "print(\"log: パッケージのインストールを開始します。\")\n",
        "##ipywidgets UIの実装に使用\n",
        "!pip install ipywidgets\n",
        "import ipywidgets as widgets\n",
        "#IPython.display 出力の消去に使用\n",
        "from IPython.display import clear_output\n",
        "#time waitコマンドの実装に使用\n",
        "import time\n",
        "#学習に必要なパッケージ群\n",
        "!apt-get install espeak\n",
        "!pip install -r requirements.txt\n",
        "print(\"log: パッケージのインストールが完了しました。\\n\")"
      ],
      "metadata": {
        "cellView": "form",
        "id": "ZVPYnCiM_m7r"
      },
      "execution_count": null,
      "outputs": []
    },
    {
      "cell_type": "markdown",
      "source": [
        "​"
      ],
      "metadata": {
        "id": "Y2gyPco8_o6A"
      }
    },
    {
      "cell_type": "code",
      "source": [
        "#@title ## 2 リポジトリの準備\n",
        "#@markdown リポジトリの準備を行います。\n",
        "\n",
        "#@markdown まず、セルを実行してください。UIが表示されます。\n",
        "\n",
        "#@markdown Colabを使用している場合\n",
        "#@markdown * PlatformでColabを選択してください。\n",
        "#@markdown * PathでMMVC_Trainerの保存先となる、Google Driveのマイドライブ以下のパスを指定してください。よく分からない場合は、変更しなくとも構いません。変更しない場合は、マイドライブ直下に保存されます。\n",
        "#@markdown * 「このノートブックに Google ドライブのファイルへのアクセスを許可しますか？」といったポップアップが表示されますので、「Google ドライブに接続」を押下し、google アカウントを選択して、「許可」を選択してください。\n",
        "\n",
        "#@markdown ローカルの場合\n",
        "#@markdown * PlatformでLocalを選択してください。\n",
        "#@markdown * PathでMMVC_Trainerの保存先となる、ローカルのパスを指定してください。\n",
        "\n",
        "#@markdown 設定が完了したら、次へを押してください。\n",
        "\n",
        "\n",
        "#---関数---\n",
        "def mount_googledrive():\n",
        "  print(\"log: Google Driveのマウントを開始します。\")\n",
        "  print(\"「このノートブックに Google ドライブのファイルへのアクセスを許可しますか？」といったポップアップが表示されますので、「Google ドライブに接続」を押下し、google アカウントを選択して、「許可」を選択してください。\")\n",
        "  time.sleep(2)\n",
        "  print(\"info: 少し時間がかかります。このままお待ちください。\")\n",
        "  from google.colab import drive\n",
        "  drive.mount('/content/drive')\n",
        "  print(\"log: Google Driveのマウントが完了しました。\\n\")\n",
        "\n",
        "#---関数終わり---\n",
        "\n",
        "def first_view():\n",
        "  #widgetsの構成\n",
        "  global platform_input #グローバル指定\n",
        "  #global directory_input #グローバル指定\n",
        "  #global branch_input #グローバル指定\n",
        "  global path_input #グローバル指定\n",
        "  platform_input = widgets.Dropdown(options=[\"Colab\", \"Local\"], value=\"Colab\", description='Platform:', disabled=False)\n",
        "  path_input = widgets.Text(value='/content/drive/MyDrive/MMVC_Trainer_main', placeholder='/content/drive/MyDrive/MMVC_Trainer_main', description='Path:', disabled=False)\n",
        "  #directory_input = widgets.Text(value='/content/drive/MyDrive/MMVC_Trainer', placeholder='/content/drive/MyDrive/MMVC_Trainer', description='Directory:', disabled=False)\n",
        "  #branch_input = widgets.Text(value='main', placeholder='main', description='Branch:', disabled=False)\n",
        "  next_1 = widgets.Button(description='次へ', disabled=False)\n",
        "  #widgetsの表示\n",
        "  display(platform_input, path_input, next_1)\n",
        "  #ボタンがクリックされたらmainを動かす\n",
        "  next_1.on_click(main)\n",
        "\n",
        "def main(b: widgets.Button) -> None:\n",
        "  clear_output(True)\n",
        "  #入力を変数に入れておく\n",
        "  #global directory #グローバル指定\n",
        "  #directory = directory_input.value\n",
        "  global platform #グローバル指定\n",
        "  platform = platform_input.value\n",
        "  #global branch #グローバル指定\n",
        "  #branch = branch_input.value\n",
        "  global path #グローバル指定\n",
        "  #path = directory + \"/MMVC_Trainer_\" + branch\n",
        "  path = path_input.value\n",
        "  #Colabとそれ以外で処理を分ける\n",
        "  if platform == \"Colab\":\n",
        "    mount_googledrive() #Google Driveのマウント\n",
        "    %cd $path\n",
        "  elif platform == \"Local\":\n",
        "    %cd $path\n",
        "\n",
        "#実行\n",
        "first_view()"
      ],
      "metadata": {
        "cellView": "form",
        "id": "AY9VJFRv6rnY"
      },
      "execution_count": null,
      "outputs": []
    },
    {
      "cell_type": "markdown",
      "source": [
        "​"
      ],
      "metadata": {
        "id": "WiHKrJ40eSPT"
      }
    },
    {
      "cell_type": "code",
      "source": [
        "#@title ## 3 実行の準備\n",
        "#@markdown 実行に必要なパッケージを導入します。\n",
        "\n",
        "#@markdown 時間がかかりますので、気長にお待ちください。\n",
        "\n",
        "print(\"log: パッケージのインストールを開始します。\")\n",
        "!apt-get install espeak\n",
        "!pip install -r requirements.txt\n",
        "print(\"log: パッケージのインストールが完了しました。\\n\")"
      ],
      "metadata": {
        "cellView": "form",
        "id": "1Ga_lDgzeQBr"
      },
      "execution_count": null,
      "outputs": []
    },
    {
      "cell_type": "markdown",
      "source": [
        "​"
      ],
      "metadata": {
        "id": "a9UiGTPJsCut"
      }
    },
    {
      "cell_type": "code",
      "execution_count": null,
      "metadata": {
        "id": "uSMdNq2rn4_G",
        "cellView": "form"
      },
      "outputs": [],
      "source": [
        "#@title ## 4 GPUの確認\n",
        "#@markdown GPUの確認を行います。\n",
        "#@markdown 割り当てられたGPUのメモリーを確認し、必要に応じてconfigファイルの\"batch_size\"を変更してください。 \n",
        "\n",
        "#@markdown よく分からない場合、変更不要です。(学習においてメモリの不足によりエラーとなる場合、変更が必要となります。詳細についてはDiscordでお問い合わせください)\n",
        "!nvidia-smi"
      ]
    },
    {
      "cell_type": "markdown",
      "source": [
        "​"
      ],
      "metadata": {
        "id": "kezhQgu-sDlJ"
      }
    },
    {
      "cell_type": "code",
      "execution_count": null,
      "metadata": {
        "id": "4k3EKZNPn82i",
        "cellView": "form"
      },
      "outputs": [],
      "source": [
        "#@title ## 5 tensorboardの起動\n",
        "#@markdown とりあえず実行しておいてください。\n",
        "\n",
        "#Load the TensorBoard notebook extension\n",
        "%load_ext tensorboard\n",
        "%tensorboard --logdir logs --port 5000"
      ]
    },
    {
      "cell_type": "markdown",
      "source": [
        "​"
      ],
      "metadata": {
        "id": "PCUmtAHIU4Jd"
      }
    },
    {
      "cell_type": "code",
      "source": [
        "#@title ## 6 学習を実行する\n",
        "#@markdown 学習を実行します。\n",
        "\n",
        "#@markdown まず、セルを実行してください。\n",
        "\n",
        "#@markdown UIが表示されますので、以下の説明に従って設定を行ってください。\n",
        "\n",
        "#@markdown ​\n",
        "\n",
        "#@markdown New / Resume\n",
        "#@markdown 新規に学習を開始する場合は、Newを選択し、**以下の-c, -m, -fg, -fdを全て設定してください。**\n",
        "#@markdown 学習を再開する場合は、Resumeを選択し、以下の-c, -mを設定してください。-mで指定したディレクトリの最新のモデルから学習を再開します。\n",
        "\n",
        "new_or_resume = \"new\"\n",
        "\n",
        "#@markdown -c：configファイルのパス\n",
        "#@markdown 作成したconfigファイル(json)を指定してください。  \n",
        "#@markdown `configs/****.json` のような値になります。\n",
        "\n",
        "config_pass = \"configs/train_config.json\"\n",
        "\n",
        "#@markdown -m：modelの保存先ディレクトリ  \n",
        "#@markdown **ディレクトリ名を直接指名してください。** \n",
        "\n",
        "model_save_dic = \"20220306_24000\"\n",
        "\n",
        "#@markdown -fg：(新規学習時のみ) Fine tuningのベースとなるG_xxxx.pth のpathを指定してください。  \n",
        "#@markdown よく分からない場合は、変更不要です。\n",
        "\n",
        "fine_model_g = \"fine_model/G_180000.pth\"\n",
        "\n",
        "#@markdown -fd：(新規学習時のみ) Fine tuningのベースとなるD_xxxx.pth のpathを指定してください。  \n",
        "#@markdown よく分からない場合は、変更不要です。\n",
        "\n",
        "fine_model_d = \"fine_model/D_180000.pth\"\n",
        "\n",
        "#@markdown ​\n",
        "\n",
        "#@markdown 設定が完了したら、次へを押してください。\n",
        "\n",
        "def first_view():\n",
        "  #widgetsの構成\n",
        "  global new_or_resume_input #グローバル指定\n",
        "  global config_pass_input #グローバル指定\n",
        "  global model_save_dic_input #グローバル指定\n",
        "  global fine_model_g_input #グローバル指定\n",
        "  global fine_model_d_input #グローバル指定\n",
        "  new_or_resume_input = widgets.Dropdown(options=[\"New\", \"Resume\"], value=\"New\", description='new/resume:', disabled=False)\n",
        "  config_pass_input = widgets.Text(value='configs/train_config.json', placeholder='configs/train_config.json', description='config_pass:', disabled=False)\n",
        "  model_save_dic_input = widgets.Text(value='20220306_24000', placeholder='20220306_24000', description='model_save_dic_input:', disabled=False)\n",
        "  fine_model_g_input = widgets.Text(value='fine_model/G_180000.pth', placeholder='fine_model/G_180000.pth', description='fine_model_g:', disabled=False)\n",
        "  fine_model_d_input = widgets.Text(value='fine_model/D_180000.pth', placeholder='fine_model/D_180000.pth', description='fine_model_d:', disabled=False)\n",
        "  next_1 = widgets.Button(description='次へ', disabled=False)\n",
        "  #widgetsの表示\n",
        "  display(new_or_resume_input, config_pass_input, model_save_dic_input, fine_model_g_input, fine_model_d_input, next_1)\n",
        "  #ボタンがクリックされたらmainを動かす\n",
        "  next_1.on_click(main)\n",
        "\n",
        "def main(b: widgets.Button) -> None:\n",
        "  clear_output(True)\n",
        "  #入力を変数に入れておく\n",
        "  global new_or_resume #グローバル指定\n",
        "  new_or_resume = new_or_resume_input.value\n",
        "  global config_pass #グローバル指定\n",
        "  config_pass = config_pass_input.value\n",
        "  global model_save_dic #グローバル指定\n",
        "  model_save_dic = model_save_dic_input.value\n",
        "  global fine_model_g #グローバル指定\n",
        "  fine_model_g = fine_model_g_input.value\n",
        "  global fine_model_d #グローバル指定\n",
        "  fine_model_d = fine_model_d_input.value\n",
        "  if New_or_Resume == \"New\":\n",
        "    !python train_ms.py -c $config_pass -m $model_save_dic -fg $fine_model_g -fd $fine_model_d\n",
        "  elif New_or_Resume == \"Resume\":\n",
        "    !python train_ms.py -c $config_pass -m $model_save_dic\n",
        "  \n",
        "\n",
        "#実行\n",
        "first_view()"
      ],
      "metadata": {
        "cellView": "form",
        "id": "PXjk0mM8wjt4"
      },
      "execution_count": null,
      "outputs": []
    }
  ],
  "metadata": {
    "accelerator": "GPU",
    "colab": {
      "collapsed_sections": [],
      "name": "Train_MMVC.ipynb",
      "provenance": []
    },
    "kernelspec": {
      "display_name": "Python 3.9.6 64-bit",
      "language": "python",
      "name": "python3"
    },
    "language_info": {
      "name": "python",
      "version": "3.9.6"
    },
    "vscode": {
      "interpreter": {
        "hash": "d3394867249fd41ee68869925f4586b97ae8a94f3c93a4c25403e9e75f272611"
      }
    },
    "gpuClass": "premium"
  },
  "nbformat": 4,
  "nbformat_minor": 0
}